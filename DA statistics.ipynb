{
 "cells": [
  {
   "cell_type": "code",
   "execution_count": 1,
   "id": "3e3865fa",
   "metadata": {},
   "outputs": [],
   "source": [
    "import pandas as pd\n",
    "import numpy as np\n",
    "import scipy as sp"
   ]
  },
  {
   "cell_type": "markdown",
   "id": "6af7fd74",
   "metadata": {},
   "source": [
    "# The Fundamentals of Data Analytics"
   ]
  },
  {
   "cell_type": "markdown",
   "id": "e4516748",
   "metadata": {},
   "source": [
    "## descriptive, predictive, and prescriptive"
   ]
  },
  {
   "cell_type": "markdown",
   "id": "009e3765",
   "metadata": {},
   "source": [
    "1. **Descriptive Analytics**\n",
    "\n",
    "It tells you what has happened. It can be done using an exploratory data analysis.\n",
    "\n",
    "\n",
    "\n",
    "2. **Predictive Analytics**\n",
    "\n",
    "It tells you what will happen. It can be achieved by building predictive models.\n",
    "\n",
    "\n",
    "3. **Prescriptive Analytics**\n",
    "\n",
    "It tells you how to make something happen. It can be done by deriving key insights and hidden patterns from the data."
   ]
  },
  {
   "cell_type": "markdown",
   "id": "c27c1b90",
   "metadata": {},
   "source": [
    "## Data collection\n",
    "\n",
    "Data collection is the natural first step for any data analysis—we can't analyze data we\n",
    "don't have. In reality, our analysis can begin even before we have the data. When we\n",
    "decide what we want to investigate or analyze, we have to think about what kind of data\n",
    "we can collect that will be useful for our analysis.Data Sources can be anything some of the examples are given below.\n",
    "\n",
    "- Web scraping to extract data from a website's HTML (often with Python packages\n",
    "such as selenium, requests, scrapy, and beautifulsoup)\n",
    "\n",
    "- Application programming interfaces (APIs) for web services from which we\n",
    "can collect data with HTTP requests (perhaps using cURL or the requests\n",
    "Python package)\n",
    "\n",
    "- Databases (data can be extracted with SQL or another database-querying language)\n",
    "\n",
    "- Internet resources that provide data for download, such as government websites\n",
    "or Yahoo! Finance\n",
    "\n",
    "- Log files\n",
    "\n",
    "We are surrounded by data, so the possibilities are limitless. It is important, however,\n",
    "to make sure that we are collecting data that will help us draw conclusions. For example,\n",
    "if we are trying to determine whether hot chocolate sales are higher when the temperature\n",
    "is lower, we should collect data on the amount of hot chocolate sold and the temperatures\n",
    "each day. While it might be interesting to see how far people traveled to get the hot\n",
    "chocolate, it's not relevant to our analysis."
   ]
  },
  {
   "cell_type": "markdown",
   "id": "4fe1d178",
   "metadata": {},
   "source": [
    "- problem statement(Understanding the Business Problem)\n",
    "- Data Collection"
   ]
  },
  {
   "cell_type": "markdown",
   "id": "9cba50a3",
   "metadata": {},
   "source": [
    "## Data wrangling\n",
    "\n",
    "Data wrangling is the process of preparing the data and getting it into a format that can\n",
    "be used for analysis. The unfortunate reality of data is that it is often dirty, meaning that\n",
    "it requires cleaning (preparation) before it can be used. The following are some issues we\n",
    "may encounter with our data:\n",
    "\n",
    "- Human errors: Data is recorded (or even collected) incorrectly, such as putting 100\n",
    "instead of 1000, or typos. In addition, there may be multiple versions of the same\n",
    "entry recorded, such as New York City, NYC, and nyc.\n",
    "\n",
    "- Computer error: Perhaps we weren't recording entries for a while (missing data).\n",
    "\n",
    "- Unexpected values: Maybe whoever was recording the data decided to use\n",
    "a question mark for a missing value in a numeric column, so now all the entries\n",
    "in the column will be treated as text instead of numeric values\n",
    "\n",
    "- Incomplete information: Think of a survey with optional questions; not everyone\n",
    "will answer them, so we will have missing data, but not due to computer or\n",
    "human error.\n",
    "\n",
    "- Resolution: The data may have been collected per second, while we need hourly\n",
    "data for our analysis\n",
    "\n",
    "- Relevance of the fields: Often, data is collected or generated as a product of some\n",
    "process rather than explicitly for our analysis. In order to get it to a usable state,\n",
    "we will have to clean it up.\n",
    "\n",
    "- Format of the data: Data may be recorded in a format that isn't conducive to\n",
    "analysis, which will require us to reshape it.\n",
    "\n",
    "- Misconfigurations in the data-recording process: Data coming from sources such\n",
    "as misconfigured trackers and/or webhooks may be missing fields or passed in the\n",
    "wrong order.\n",
    "\n",
    "Most of these data quality issues can be remedied, but some cannot, such as when the\n",
    "data is collected daily and we need it on an hourly resolution. It is our responsibility\n",
    "to carefully examine our data and handle any issues so that our analysis doesn't get\n",
    "distorted"
   ]
  },
  {
   "cell_type": "markdown",
   "id": "2d28f46e",
   "metadata": {},
   "source": [
    "## Exploratory data analysis\n",
    "\n",
    "During EDA, we use visualizations and summary statistics to get a better understanding\n",
    "of the data. Since the human brain excels at picking out visual patterns, data visualization\n",
    "is essential to any analysis. In fact, some characteristics of the data can only be observed\n",
    "in a plot. Depending on our data, we may create plots to see how a variable of interest\n",
    "has evolved over time, compare how many observations belong to each category, find\n",
    "outliers, look at distributions of continuous and discrete variables, and much more\n",
    "\n",
    "\n",
    "`*Important note*\n",
    "Data visualizations are very powerful; unfortunately, they can often be\n",
    "misleading. One common issue stems from the scale of the y-axis because\n",
    "most plotting tools will zoom in by default to show the pattern up close.\n",
    "It would be difficult for software to know what the appropriate axis limits are\n",
    "for every possible plot; therefore, it is our job to properly adjust the axes before\n",
    "presenting our results. You can read about some more ways that plots can\n",
    "be misleading at https://venngage.com/blog/misleadinggraphs/.`\n",
    "\n",
    "In the workflow diagram we saw earlier, EDA and data wrangling shared\n",
    "a box. This is because they are closely tied:\n",
    "\n",
    "- Data needs to be prepped before EDA\n",
    "\n",
    "- Visualizations that are created during EDA may indicate the need for additional\n",
    "data cleaning.\n",
    "- Data wrangling uses summary statistics to look for potential data issues, while\n",
    "EDA uses them to understand the data. Improper cleaning will distort the findings\n",
    "when we're conducting EDA. In addition, data wrangling skills will be required to\n",
    "get summary statistics across subsets of the data.\n",
    "\n",
    "When calculating summary statistics, we must keep the type of data we collected in mind.\n",
    "Data can be quantitative (measurable quantities) or categorical (descriptions, groupings,\n",
    "or categories). Within these classes of data, we have further subdivisions that let us know\n",
    "what types of operations we can perform on them.\n",
    "\n",
    "For example, categorical data can be nominal, where we assign a numeric value to each\n",
    "level of the category, such as on = 1/off = 0. Note that the fact that on is greater than\n",
    "off is meaningless because we arbitrarily chose those numbers to represent the states on\n",
    "and off. When there is a ranking among the categories, they are ordinal, meaning that\n",
    "we can order the levels (for instance, we can have low < medium < high).\n",
    "\n",
    "Quantitative data can use an interval scale or a ratio scale. The interval scale includes\n",
    "things such as temperature. We can measure temperatures in Celsius and compare the\n",
    "temperatures of two cities, but it doesn't mean anything to say one city is twice as hot\n",
    "as the other. Therefore, interval scale values can be meaningfully compared using\n",
    "addition/subtraction, but not multiplication/division. The ratio scale, then, are those\n",
    "values that can be meaningfully compared with ratios (using multiplication and division).\n",
    "Examples of the ratio scale include prices, sizes, and counts."
   ]
  },
  {
   "cell_type": "markdown",
   "id": "a1a0997e",
   "metadata": {},
   "source": [
    "### Drawing conclusions"
   ]
  },
  {
   "cell_type": "markdown",
   "id": "df42c5d4",
   "metadata": {},
   "source": [
    "- Did we notice any patterns or relationships when visualizing the data?\n",
    "- Does it look like we can make accurate predictions from our data? Does it make\n",
    "sense to move to modeling the data?\n",
    "- Should we handle missing data points? How?\n",
    "- How is the data distributed?\n",
    "- Does the data help us answer the questions we have or give insight into the problem\n",
    "we are investigating?\n",
    "- Do we need to collect new or additional data?\n"
   ]
  },
  {
   "cell_type": "markdown",
   "id": "90c042c9",
   "metadata": {},
   "source": [
    "## Statistical foundations"
   ]
  },
  {
   "cell_type": "markdown",
   "id": "b04b9981",
   "metadata": {},
   "source": [
    "#### Population and Sample"
   ]
  },
  {
   "cell_type": "markdown",
   "id": "ccea977a",
   "metadata": {},
   "source": [
    "## Sampling\n",
    "\n",
    "There's an important thing to remember before we attempt any analysis: our sample must\n",
    "be a random sample that is representative of the population. This means that the data\n",
    "must be sampled without bias (for example, if we are asking people whether they like\n",
    "a certain sports team, we can't only ask fans of the team) and that we should have (ideally)\n",
    "members of all distinct groups from the population in our sample (in the sports team\n",
    "example, we can't just ask men).\n",
    "\n",
    "We will need to sample our data, which will be a sample to begin with. This\n",
    "is called resampling. Depending on the data, we will have to pick a different method\n",
    "of sampling. Often, our best bet is a simple random sample: we use a random number\n",
    "generator to pick rows at random. When we have distinct groups in the data, we want\n",
    "our sample to be a stratified random sample, which will preserve the proportion of the\n",
    "groups in the data. In some cases, we don't have enough data for the aforementioned\n",
    "sampling strategies, so we may turn to random sampling with replacement\n",
    "(bootstrapping); this is called a bootstrap sample. Note that our underlying sample\n",
    "needs to have been a random sample or we risk increasing the bias of the estimator\n",
    "(we could pick certain rows more often because they are in the data more often if it was\n",
    "a convenience sample, while in the true population these rows aren't as prevalent)."
   ]
  },
  {
   "cell_type": "markdown",
   "id": "3404473d",
   "metadata": {},
   "source": [
    "### Descriptive and Inferencial Statistics"
   ]
  },
  {
   "cell_type": "markdown",
   "id": "71746e38",
   "metadata": {},
   "source": [
    "- Measures of Central Tendency\n",
    "- Measures of Dispersion/Spread"
   ]
  },
  {
   "cell_type": "markdown",
   "id": "c112f14f",
   "metadata": {},
   "source": [
    "### Measures of Central Tendency"
   ]
  },
  {
   "cell_type": "markdown",
   "id": "98487232",
   "metadata": {},
   "source": [
    "- It describes where most of the data is centered around\n",
    "- Three common measures of central tendency\n",
    "- Mean,Median and Mode"
   ]
  },
  {
   "cell_type": "markdown",
   "id": "6c27fc36",
   "metadata": {},
   "source": [
    "## Mean\n",
    "\n",
    "- mu represents population mean\n",
    "- x bar represents sample mean\n",
    "- summing all the values/count of values"
   ]
  },
  {
   "cell_type": "code",
   "execution_count": 38,
   "id": "b70e2beb",
   "metadata": {},
   "outputs": [],
   "source": [
    "age = [20,25,23,27,28,23,25,24]"
   ]
  },
  {
   "cell_type": "code",
   "execution_count": 39,
   "id": "b63c4d8c",
   "metadata": {},
   "outputs": [
    {
     "data": {
      "text/plain": [
       "24.375"
      ]
     },
     "execution_count": 39,
     "metadata": {},
     "output_type": "execute_result"
    }
   ],
   "source": [
    "(20+25+23+27+28+23+25+24)/8"
   ]
  },
  {
   "cell_type": "code",
   "execution_count": 40,
   "id": "9ea521cb",
   "metadata": {},
   "outputs": [],
   "source": [
    "salary = [1000,2000,3000,5000,7000,8000]"
   ]
  },
  {
   "cell_type": "code",
   "execution_count": 41,
   "id": "f266de4d",
   "metadata": {},
   "outputs": [],
   "source": [
    "import numpy as np"
   ]
  },
  {
   "cell_type": "code",
   "execution_count": 42,
   "id": "54cbdf65",
   "metadata": {},
   "outputs": [
    {
     "data": {
      "text/plain": [
       "4333.333333333333"
      ]
     },
     "execution_count": 42,
     "metadata": {},
     "output_type": "execute_result"
    }
   ],
   "source": [
    "np.mean(salary)"
   ]
  },
  {
   "cell_type": "code",
   "execution_count": 43,
   "id": "5cded589",
   "metadata": {},
   "outputs": [],
   "source": [
    "salary = [1000,2000,3000,5000,7000,8000,70000]"
   ]
  },
  {
   "cell_type": "code",
   "execution_count": 44,
   "id": "cf5ff078",
   "metadata": {},
   "outputs": [
    {
     "data": {
      "text/plain": [
       "13714.285714285714"
      ]
     },
     "execution_count": 44,
     "metadata": {},
     "output_type": "execute_result"
    }
   ],
   "source": [
    "np.mean(salary)"
   ]
  },
  {
   "cell_type": "markdown",
   "id": "eaa13db2",
   "metadata": {},
   "source": [
    "## Median\n",
    "- it calculates the 50th percentile of our data, 50% of our data lies under which value\n",
    "- 50% of our data is below that value and 50% is above that value"
   ]
  },
  {
   "cell_type": "code",
   "execution_count": 45,
   "id": "b9cd2562",
   "metadata": {},
   "outputs": [],
   "source": [
    "salary = [1000,2000,3000,5000,7000,8000]"
   ]
  },
  {
   "cell_type": "code",
   "execution_count": 46,
   "id": "8a5c8e00",
   "metadata": {},
   "outputs": [
    {
     "data": {
      "text/plain": [
       "4000.0"
      ]
     },
     "execution_count": 46,
     "metadata": {},
     "output_type": "execute_result"
    }
   ],
   "source": [
    "np.median(salary)"
   ]
  },
  {
   "cell_type": "code",
   "execution_count": 47,
   "id": "d6338c72",
   "metadata": {},
   "outputs": [],
   "source": [
    "salary = [1000,2000,3000,5000,7000,8000,70000]"
   ]
  },
  {
   "cell_type": "code",
   "execution_count": 48,
   "id": "96b51ca8",
   "metadata": {},
   "outputs": [
    {
     "data": {
      "text/plain": [
       "5000.0"
      ]
     },
     "execution_count": 48,
     "metadata": {},
     "output_type": "execute_result"
    }
   ],
   "source": [
    "np.median(salary)"
   ]
  },
  {
   "cell_type": "markdown",
   "id": "35529042",
   "metadata": {},
   "source": [
    "## Odd Number"
   ]
  },
  {
   "cell_type": "markdown",
   "id": "28b52f5e",
   "metadata": {},
   "source": [
    "- sorting\n",
    "- Picks the middle value"
   ]
  },
  {
   "cell_type": "code",
   "execution_count": 49,
   "id": "45e1f9e6",
   "metadata": {},
   "outputs": [],
   "source": [
    "ages = [34,56,53,45,78,43,33]"
   ]
  },
  {
   "cell_type": "code",
   "execution_count": 50,
   "id": "874498e9",
   "metadata": {},
   "outputs": [
    {
     "data": {
      "text/plain": [
       "[33, 34, 43, 45, 53, 56, 78]"
      ]
     },
     "execution_count": 50,
     "metadata": {},
     "output_type": "execute_result"
    }
   ],
   "source": [
    "[33,34,43,45,53,56,78]"
   ]
  },
  {
   "cell_type": "code",
   "execution_count": 51,
   "id": "adc8d7ef",
   "metadata": {},
   "outputs": [
    {
     "data": {
      "text/plain": [
       "45.0"
      ]
     },
     "execution_count": 51,
     "metadata": {},
     "output_type": "execute_result"
    }
   ],
   "source": [
    "np.median(ages)"
   ]
  },
  {
   "cell_type": "markdown",
   "id": "003210da",
   "metadata": {},
   "source": [
    "## Even Number\n",
    "\n",
    "- ordering\n",
    "- picks the two middle vlaues and devides it by 2"
   ]
  },
  {
   "cell_type": "code",
   "execution_count": 52,
   "id": "9b79f60c",
   "metadata": {},
   "outputs": [],
   "source": [
    "ages = [34,56,53,45,78,43,33,51]"
   ]
  },
  {
   "cell_type": "code",
   "execution_count": 53,
   "id": "4a74640e",
   "metadata": {},
   "outputs": [
    {
     "data": {
      "text/plain": [
       "[33, 34, 43, 45, 51, 53, 56, 78]"
      ]
     },
     "execution_count": 53,
     "metadata": {},
     "output_type": "execute_result"
    }
   ],
   "source": [
    "[33,34,43,45,51,53,56,78]"
   ]
  },
  {
   "cell_type": "code",
   "execution_count": 54,
   "id": "2c654900",
   "metadata": {},
   "outputs": [
    {
     "data": {
      "text/plain": [
       "48.0"
      ]
     },
     "execution_count": 54,
     "metadata": {},
     "output_type": "execute_result"
    }
   ],
   "source": [
    "(45+51)/2"
   ]
  },
  {
   "cell_type": "code",
   "execution_count": 55,
   "id": "574ff33d",
   "metadata": {},
   "outputs": [
    {
     "data": {
      "text/plain": [
       "48.0"
      ]
     },
     "execution_count": 55,
     "metadata": {},
     "output_type": "execute_result"
    }
   ],
   "source": [
    "np.median(ages)"
   ]
  },
  {
   "cell_type": "markdown",
   "id": "0c970e54",
   "metadata": {},
   "source": [
    "- - -"
   ]
  },
  {
   "cell_type": "code",
   "execution_count": 1,
   "id": "89329fae",
   "metadata": {},
   "outputs": [],
   "source": [
    "import numpy as np"
   ]
  },
  {
   "cell_type": "code",
   "execution_count": 9,
   "id": "60c903cf",
   "metadata": {},
   "outputs": [],
   "source": [
    "patient_ages = [32,45,29,52,34,56,41,48,39,60,28,55]"
   ]
  },
  {
   "cell_type": "code",
   "execution_count": 14,
   "id": "0e5f86d0",
   "metadata": {},
   "outputs": [],
   "source": [
    "patient = [28,29,32,34,39,41,45,48,52,55,56,60]"
   ]
  },
  {
   "cell_type": "code",
   "execution_count": 32,
   "id": "20e5677c",
   "metadata": {},
   "outputs": [
    {
     "data": {
      "text/plain": [
       "43.25"
      ]
     },
     "execution_count": 32,
     "metadata": {},
     "output_type": "execute_result"
    }
   ],
   "source": [
    "np.mean(patient_ages)"
   ]
  },
  {
   "cell_type": "code",
   "execution_count": 17,
   "id": "b69b4c58",
   "metadata": {},
   "outputs": [
    {
     "data": {
      "text/plain": [
       "43.0"
      ]
     },
     "execution_count": 17,
     "metadata": {},
     "output_type": "execute_result"
    }
   ],
   "source": [
    "np.median(patient)"
   ]
  },
  {
   "cell_type": "code",
   "execution_count": 18,
   "id": "da18960d",
   "metadata": {},
   "outputs": [],
   "source": [
    "returns = [0.12,0.09,-0.05,0.15,0.18,-0.02,0.10,0.07,0.14,-0.08]"
   ]
  },
  {
   "cell_type": "code",
   "execution_count": 19,
   "id": "dd5ce202",
   "metadata": {},
   "outputs": [
    {
     "data": {
      "text/plain": [
       "0.07"
      ]
     },
     "execution_count": 19,
     "metadata": {},
     "output_type": "execute_result"
    }
   ],
   "source": [
    "np.mean(returns)"
   ]
  },
  {
   "cell_type": "code",
   "execution_count": 23,
   "id": "866a59ba",
   "metadata": {},
   "outputs": [],
   "source": [
    "returns = [0.10,0.12,0.14,0.15,0.18,0.09,0.07,-0.02,-0.05,-0.08]"
   ]
  },
  {
   "cell_type": "code",
   "execution_count": 24,
   "id": "87d42ce6",
   "metadata": {},
   "outputs": [
    {
     "data": {
      "text/plain": [
       "0.095"
      ]
     },
     "execution_count": 24,
     "metadata": {},
     "output_type": "execute_result"
    }
   ],
   "source": [
    "np.median(returns)"
   ]
  },
  {
   "cell_type": "code",
   "execution_count": 25,
   "id": "180cd906",
   "metadata": {},
   "outputs": [],
   "source": [
    "gene_expressions = [2.5,3.0,2.2,3.5,2.8,3.2,2.9,3.1,2.7,3.3]"
   ]
  },
  {
   "cell_type": "code",
   "execution_count": 26,
   "id": "8c8ab6ca",
   "metadata": {},
   "outputs": [
    {
     "data": {
      "text/plain": [
       "2.92"
      ]
     },
     "execution_count": 26,
     "metadata": {},
     "output_type": "execute_result"
    }
   ],
   "source": [
    "np.mean(gene_expressions)"
   ]
  },
  {
   "cell_type": "code",
   "execution_count": 30,
   "id": "f5242921",
   "metadata": {},
   "outputs": [],
   "source": [
    "gene_expressions = [2.2,2.5,2.7,2.8,2.9,3.0,3.1,3.2,3.3,3.5]"
   ]
  },
  {
   "cell_type": "code",
   "execution_count": 31,
   "id": "6d9fd94d",
   "metadata": {},
   "outputs": [
    {
     "data": {
      "text/plain": [
       "2.95"
      ]
     },
     "execution_count": 31,
     "metadata": {},
     "output_type": "execute_result"
    }
   ],
   "source": [
    "np.median(gene_expressions)"
   ]
  },
  {
   "cell_type": "markdown",
   "id": "0658103e",
   "metadata": {},
   "source": [
    "### Practical Implementation"
   ]
  },
  {
   "cell_type": "code",
   "execution_count": 34,
   "id": "d11d9fa7",
   "metadata": {},
   "outputs": [],
   "source": [
    "import pandas as pd"
   ]
  },
  {
   "cell_type": "code",
   "execution_count": 2,
   "id": "2013bb23",
   "metadata": {},
   "outputs": [
    {
     "data": {
      "text/html": [
       "<div>\n",
       "<style scoped>\n",
       "    .dataframe tbody tr th:only-of-type {\n",
       "        vertical-align: middle;\n",
       "    }\n",
       "\n",
       "    .dataframe tbody tr th {\n",
       "        vertical-align: top;\n",
       "    }\n",
       "\n",
       "    .dataframe thead th {\n",
       "        text-align: right;\n",
       "    }\n",
       "</style>\n",
       "<table border=\"1\" class=\"dataframe\">\n",
       "  <thead>\n",
       "    <tr style=\"text-align: right;\">\n",
       "      <th></th>\n",
       "      <th>longitude</th>\n",
       "      <th>latitude</th>\n",
       "      <th>housing_median_age</th>\n",
       "      <th>total_rooms</th>\n",
       "      <th>total_bedrooms</th>\n",
       "      <th>population</th>\n",
       "      <th>households</th>\n",
       "      <th>median_income</th>\n",
       "      <th>median_house_value</th>\n",
       "      <th>ocean_proximity</th>\n",
       "      <th>gender</th>\n",
       "    </tr>\n",
       "  </thead>\n",
       "  <tbody>\n",
       "    <tr>\n",
       "      <th>0</th>\n",
       "      <td>-122.23</td>\n",
       "      <td>37.88</td>\n",
       "      <td>41.0</td>\n",
       "      <td>880</td>\n",
       "      <td>129.0</td>\n",
       "      <td>322.0</td>\n",
       "      <td>126</td>\n",
       "      <td>8.3252</td>\n",
       "      <td>452600</td>\n",
       "      <td>NEAR BAY</td>\n",
       "      <td>male</td>\n",
       "    </tr>\n",
       "    <tr>\n",
       "      <th>1</th>\n",
       "      <td>-122.22</td>\n",
       "      <td>37.86</td>\n",
       "      <td>21.0</td>\n",
       "      <td>7099</td>\n",
       "      <td>1106.0</td>\n",
       "      <td>2401.0</td>\n",
       "      <td>1138</td>\n",
       "      <td>8.3014</td>\n",
       "      <td>358500</td>\n",
       "      <td>NEAR BAY</td>\n",
       "      <td>female</td>\n",
       "    </tr>\n",
       "    <tr>\n",
       "      <th>2</th>\n",
       "      <td>-122.24</td>\n",
       "      <td>37.85</td>\n",
       "      <td>52.0</td>\n",
       "      <td>1467</td>\n",
       "      <td>190.0</td>\n",
       "      <td>496.0</td>\n",
       "      <td>177</td>\n",
       "      <td>7.2574</td>\n",
       "      <td>352100</td>\n",
       "      <td>NEAR BAY</td>\n",
       "      <td>male</td>\n",
       "    </tr>\n",
       "    <tr>\n",
       "      <th>3</th>\n",
       "      <td>-122.25</td>\n",
       "      <td>37.85</td>\n",
       "      <td>52.0</td>\n",
       "      <td>1274</td>\n",
       "      <td>235.0</td>\n",
       "      <td>558.0</td>\n",
       "      <td>219</td>\n",
       "      <td>5.6431</td>\n",
       "      <td>341300</td>\n",
       "      <td>NEAR BAY</td>\n",
       "      <td>female</td>\n",
       "    </tr>\n",
       "    <tr>\n",
       "      <th>4</th>\n",
       "      <td>-122.25</td>\n",
       "      <td>37.85</td>\n",
       "      <td>NaN</td>\n",
       "      <td>1627</td>\n",
       "      <td>280.0</td>\n",
       "      <td>NaN</td>\n",
       "      <td>259</td>\n",
       "      <td>3.8462</td>\n",
       "      <td>342200</td>\n",
       "      <td>NEAR BAY</td>\n",
       "      <td>male</td>\n",
       "    </tr>\n",
       "    <tr>\n",
       "      <th>...</th>\n",
       "      <td>...</td>\n",
       "      <td>...</td>\n",
       "      <td>...</td>\n",
       "      <td>...</td>\n",
       "      <td>...</td>\n",
       "      <td>...</td>\n",
       "      <td>...</td>\n",
       "      <td>...</td>\n",
       "      <td>...</td>\n",
       "      <td>...</td>\n",
       "      <td>...</td>\n",
       "    </tr>\n",
       "    <tr>\n",
       "      <th>20635</th>\n",
       "      <td>-121.09</td>\n",
       "      <td>39.48</td>\n",
       "      <td>25.0</td>\n",
       "      <td>1665</td>\n",
       "      <td>374.0</td>\n",
       "      <td>845.0</td>\n",
       "      <td>330</td>\n",
       "      <td>1.5603</td>\n",
       "      <td>78100</td>\n",
       "      <td>INLAND</td>\n",
       "      <td>female</td>\n",
       "    </tr>\n",
       "    <tr>\n",
       "      <th>20636</th>\n",
       "      <td>-121.21</td>\n",
       "      <td>39.49</td>\n",
       "      <td>18.0</td>\n",
       "      <td>697</td>\n",
       "      <td>150.0</td>\n",
       "      <td>356.0</td>\n",
       "      <td>114</td>\n",
       "      <td>2.5568</td>\n",
       "      <td>77100</td>\n",
       "      <td>INLAND</td>\n",
       "      <td>male</td>\n",
       "    </tr>\n",
       "    <tr>\n",
       "      <th>20637</th>\n",
       "      <td>-121.22</td>\n",
       "      <td>39.43</td>\n",
       "      <td>17.0</td>\n",
       "      <td>2254</td>\n",
       "      <td>485.0</td>\n",
       "      <td>1007.0</td>\n",
       "      <td>433</td>\n",
       "      <td>1.7000</td>\n",
       "      <td>92300</td>\n",
       "      <td>INLAND</td>\n",
       "      <td>female</td>\n",
       "    </tr>\n",
       "    <tr>\n",
       "      <th>20638</th>\n",
       "      <td>-121.32</td>\n",
       "      <td>39.43</td>\n",
       "      <td>18.0</td>\n",
       "      <td>1860</td>\n",
       "      <td>409.0</td>\n",
       "      <td>741.0</td>\n",
       "      <td>349</td>\n",
       "      <td>1.8672</td>\n",
       "      <td>84700</td>\n",
       "      <td>INLAND</td>\n",
       "      <td>male</td>\n",
       "    </tr>\n",
       "    <tr>\n",
       "      <th>20639</th>\n",
       "      <td>-121.24</td>\n",
       "      <td>39.37</td>\n",
       "      <td>16.0</td>\n",
       "      <td>2785</td>\n",
       "      <td>616.0</td>\n",
       "      <td>1387.0</td>\n",
       "      <td>530</td>\n",
       "      <td>2.3886</td>\n",
       "      <td>89400</td>\n",
       "      <td>INLAND</td>\n",
       "      <td>female</td>\n",
       "    </tr>\n",
       "  </tbody>\n",
       "</table>\n",
       "<p>20640 rows × 11 columns</p>\n",
       "</div>"
      ],
      "text/plain": [
       "       longitude  latitude  housing_median_age  total_rooms  total_bedrooms  \\\n",
       "0        -122.23     37.88                41.0          880           129.0   \n",
       "1        -122.22     37.86                21.0         7099          1106.0   \n",
       "2        -122.24     37.85                52.0         1467           190.0   \n",
       "3        -122.25     37.85                52.0         1274           235.0   \n",
       "4        -122.25     37.85                 NaN         1627           280.0   \n",
       "...          ...       ...                 ...          ...             ...   \n",
       "20635    -121.09     39.48                25.0         1665           374.0   \n",
       "20636    -121.21     39.49                18.0          697           150.0   \n",
       "20637    -121.22     39.43                17.0         2254           485.0   \n",
       "20638    -121.32     39.43                18.0         1860           409.0   \n",
       "20639    -121.24     39.37                16.0         2785           616.0   \n",
       "\n",
       "       population households  median_income  median_house_value  \\\n",
       "0           322.0        126         8.3252              452600   \n",
       "1          2401.0       1138         8.3014              358500   \n",
       "2           496.0        177         7.2574              352100   \n",
       "3           558.0        219         5.6431              341300   \n",
       "4             NaN        259         3.8462              342200   \n",
       "...           ...        ...            ...                 ...   \n",
       "20635       845.0        330         1.5603               78100   \n",
       "20636       356.0        114         2.5568               77100   \n",
       "20637      1007.0        433         1.7000               92300   \n",
       "20638       741.0        349         1.8672               84700   \n",
       "20639      1387.0        530         2.3886               89400   \n",
       "\n",
       "      ocean_proximity  gender  \n",
       "0            NEAR BAY    male  \n",
       "1            NEAR BAY  female  \n",
       "2            NEAR BAY    male  \n",
       "3            NEAR BAY  female  \n",
       "4            NEAR BAY    male  \n",
       "...               ...     ...  \n",
       "20635          INLAND  female  \n",
       "20636          INLAND    male  \n",
       "20637          INLAND  female  \n",
       "20638          INLAND    male  \n",
       "20639          INLAND  female  \n",
       "\n",
       "[20640 rows x 11 columns]"
      ]
     },
     "execution_count": 2,
     "metadata": {},
     "output_type": "execute_result"
    }
   ],
   "source": [
    "housing = pd.read_csv('C:\\data analytics\\pandas_docs/housing2 (1).csv')\n",
    "housing"
   ]
  },
  {
   "cell_type": "code",
   "execution_count": 3,
   "id": "73cace55",
   "metadata": {},
   "outputs": [],
   "source": [
    "housing1 = housing.copy()"
   ]
  },
  {
   "cell_type": "markdown",
   "id": "629a296d",
   "metadata": {},
   "source": [
    "### Mean & Median"
   ]
  },
  {
   "cell_type": "markdown",
   "id": "88959dd8",
   "metadata": {},
   "source": [
    "#### Longitude"
   ]
  },
  {
   "cell_type": "code",
   "execution_count": 4,
   "id": "2d86e674",
   "metadata": {},
   "outputs": [
    {
     "data": {
      "text/plain": [
       "-119.56970445736432"
      ]
     },
     "execution_count": 4,
     "metadata": {},
     "output_type": "execute_result"
    }
   ],
   "source": [
    "housing['longitude'].mean()"
   ]
  },
  {
   "cell_type": "code",
   "execution_count": 5,
   "id": "77e5d356",
   "metadata": {},
   "outputs": [
    {
     "data": {
      "text/plain": [
       "-118.49"
      ]
     },
     "execution_count": 5,
     "metadata": {},
     "output_type": "execute_result"
    }
   ],
   "source": [
    "housing['longitude'].median()"
   ]
  },
  {
   "cell_type": "markdown",
   "id": "b8c96a24",
   "metadata": {},
   "source": [
    "#### Latitude"
   ]
  },
  {
   "cell_type": "code",
   "execution_count": 9,
   "id": "65b0ac61",
   "metadata": {},
   "outputs": [
    {
     "data": {
      "text/plain": [
       "35.63186143410853"
      ]
     },
     "execution_count": 9,
     "metadata": {},
     "output_type": "execute_result"
    }
   ],
   "source": [
    "housing['latitude'].mean()"
   ]
  },
  {
   "cell_type": "code",
   "execution_count": 10,
   "id": "6d145e09",
   "metadata": {},
   "outputs": [
    {
     "data": {
      "text/plain": [
       "34.26"
      ]
     },
     "execution_count": 10,
     "metadata": {},
     "output_type": "execute_result"
    }
   ],
   "source": [
    "housing['latitude'].median()"
   ]
  },
  {
   "cell_type": "markdown",
   "id": "9d741323",
   "metadata": {},
   "source": [
    "#### Median age of house"
   ]
  },
  {
   "cell_type": "code",
   "execution_count": 12,
   "id": "c146ad8d",
   "metadata": {},
   "outputs": [
    {
     "data": {
      "text/plain": [
       "28.676282994799333"
      ]
     },
     "execution_count": 12,
     "metadata": {},
     "output_type": "execute_result"
    }
   ],
   "source": [
    "housing['housing_median_age'].mean()"
   ]
  },
  {
   "cell_type": "code",
   "execution_count": 13,
   "id": "e8617b4e",
   "metadata": {},
   "outputs": [
    {
     "data": {
      "text/plain": [
       "29.0"
      ]
     },
     "execution_count": 13,
     "metadata": {},
     "output_type": "execute_result"
    }
   ],
   "source": [
    "housing['housing_median_age'].median()"
   ]
  },
  {
   "cell_type": "markdown",
   "id": "e0ebc497",
   "metadata": {},
   "source": [
    "#### Total Rooms"
   ]
  },
  {
   "cell_type": "code",
   "execution_count": 14,
   "id": "c95db7ff",
   "metadata": {},
   "outputs": [
    {
     "data": {
      "text/plain": [
       "2635.7630813953488"
      ]
     },
     "execution_count": 14,
     "metadata": {},
     "output_type": "execute_result"
    }
   ],
   "source": [
    "housing['total_rooms'].mean()"
   ]
  },
  {
   "cell_type": "code",
   "execution_count": 15,
   "id": "ae38ca1d",
   "metadata": {},
   "outputs": [
    {
     "data": {
      "text/plain": [
       "2127.0"
      ]
     },
     "execution_count": 15,
     "metadata": {},
     "output_type": "execute_result"
    }
   ],
   "source": [
    "housing['total_rooms'].median()"
   ]
  },
  {
   "cell_type": "markdown",
   "id": "aefecd76",
   "metadata": {},
   "source": [
    "#### Total Bedrooms"
   ]
  },
  {
   "cell_type": "code",
   "execution_count": 16,
   "id": "03673b7e",
   "metadata": {},
   "outputs": [
    {
     "data": {
      "text/plain": [
       "539.9201040741211"
      ]
     },
     "execution_count": 16,
     "metadata": {},
     "output_type": "execute_result"
    }
   ],
   "source": [
    "housing['total_bedrooms'].mean()"
   ]
  },
  {
   "cell_type": "code",
   "execution_count": 17,
   "id": "4e8d022b",
   "metadata": {},
   "outputs": [
    {
     "data": {
      "text/plain": [
       "435.0"
      ]
     },
     "execution_count": 17,
     "metadata": {},
     "output_type": "execute_result"
    }
   ],
   "source": [
    "housing['total_bedrooms'].median()"
   ]
  },
  {
   "cell_type": "markdown",
   "id": "96b80a36",
   "metadata": {},
   "source": [
    "#### Population"
   ]
  },
  {
   "cell_type": "code",
   "execution_count": 18,
   "id": "ca4b1390",
   "metadata": {},
   "outputs": [
    {
     "data": {
      "text/plain": [
       "1424.9287240240824"
      ]
     },
     "execution_count": 18,
     "metadata": {},
     "output_type": "execute_result"
    }
   ],
   "source": [
    "housing['population'].mean()"
   ]
  },
  {
   "cell_type": "code",
   "execution_count": 19,
   "id": "55da6ca3",
   "metadata": {},
   "outputs": [
    {
     "data": {
      "text/plain": [
       "1166.0"
      ]
     },
     "execution_count": 19,
     "metadata": {},
     "output_type": "execute_result"
    }
   ],
   "source": [
    "housing['population'].median()"
   ]
  },
  {
   "cell_type": "markdown",
   "id": "aaf86ba9",
   "metadata": {},
   "source": [
    "#### Households"
   ]
  },
  {
   "cell_type": "code",
   "execution_count": null,
   "id": "47a822ed",
   "metadata": {},
   "outputs": [],
   "source": []
  },
  {
   "cell_type": "code",
   "execution_count": null,
   "id": "3958ee63",
   "metadata": {},
   "outputs": [],
   "source": []
  },
  {
   "cell_type": "markdown",
   "id": "8aeb8d18",
   "metadata": {},
   "source": [
    "#### Median Income"
   ]
  },
  {
   "cell_type": "code",
   "execution_count": 4,
   "id": "7f658191",
   "metadata": {},
   "outputs": [
    {
     "data": {
      "text/plain": [
       "15.0001"
      ]
     },
     "execution_count": 4,
     "metadata": {},
     "output_type": "execute_result"
    }
   ],
   "source": [
    "housing['median_income'].max()"
   ]
  },
  {
   "cell_type": "code",
   "execution_count": 5,
   "id": "a37fbcf1",
   "metadata": {},
   "outputs": [
    {
     "data": {
      "text/plain": [
       "0.4999"
      ]
     },
     "execution_count": 5,
     "metadata": {},
     "output_type": "execute_result"
    }
   ],
   "source": [
    "housing['median_income'].min()"
   ]
  },
  {
   "cell_type": "code",
   "execution_count": 28,
   "id": "33ce570d",
   "metadata": {},
   "outputs": [
    {
     "data": {
      "text/plain": [
       "3.9394028646561856"
      ]
     },
     "execution_count": 28,
     "metadata": {},
     "output_type": "execute_result"
    }
   ],
   "source": [
    "housing['median_income'].mean()"
   ]
  },
  {
   "cell_type": "code",
   "execution_count": 29,
   "id": "e472861c",
   "metadata": {},
   "outputs": [
    {
     "data": {
      "text/plain": [
       "3.5871"
      ]
     },
     "execution_count": 29,
     "metadata": {},
     "output_type": "execute_result"
    }
   ],
   "source": [
    "housing['median_income'].median()"
   ]
  },
  {
   "cell_type": "markdown",
   "id": "e0b1a8f1",
   "metadata": {},
   "source": [
    "#### Median House Value"
   ]
  },
  {
   "cell_type": "code",
   "execution_count": 30,
   "id": "ce863e90",
   "metadata": {},
   "outputs": [
    {
     "data": {
      "text/plain": [
       "206855.81690891474"
      ]
     },
     "execution_count": 30,
     "metadata": {},
     "output_type": "execute_result"
    }
   ],
   "source": [
    "housing['median_house_value'].mean()"
   ]
  },
  {
   "cell_type": "code",
   "execution_count": 31,
   "id": "dabfeacd",
   "metadata": {
    "scrolled": true
   },
   "outputs": [
    {
     "data": {
      "text/plain": [
       "179700.0"
      ]
     },
     "execution_count": 31,
     "metadata": {},
     "output_type": "execute_result"
    }
   ],
   "source": [
    "housing['median_house_value'].median()"
   ]
  },
  {
   "cell_type": "markdown",
   "id": "846cccf2",
   "metadata": {},
   "source": [
    "### Mode"
   ]
  },
  {
   "cell_type": "code",
   "execution_count": 7,
   "id": "57f57639",
   "metadata": {},
   "outputs": [
    {
     "data": {
      "text/html": [
       "<div>\n",
       "<style scoped>\n",
       "    .dataframe tbody tr th:only-of-type {\n",
       "        vertical-align: middle;\n",
       "    }\n",
       "\n",
       "    .dataframe tbody tr th {\n",
       "        vertical-align: top;\n",
       "    }\n",
       "\n",
       "    .dataframe thead th {\n",
       "        text-align: right;\n",
       "    }\n",
       "</style>\n",
       "<table border=\"1\" class=\"dataframe\">\n",
       "  <thead>\n",
       "    <tr style=\"text-align: right;\">\n",
       "      <th></th>\n",
       "      <th>longitude</th>\n",
       "      <th>latitude</th>\n",
       "      <th>housing_median_age</th>\n",
       "      <th>total_rooms</th>\n",
       "      <th>total_bedrooms</th>\n",
       "      <th>population</th>\n",
       "      <th>households</th>\n",
       "      <th>median_income</th>\n",
       "      <th>median_house_value</th>\n",
       "      <th>ocean_proximity</th>\n",
       "      <th>gender</th>\n",
       "    </tr>\n",
       "  </thead>\n",
       "  <tbody>\n",
       "    <tr>\n",
       "      <th>0</th>\n",
       "      <td>-122.23</td>\n",
       "      <td>37.88</td>\n",
       "      <td>41.0</td>\n",
       "      <td>880</td>\n",
       "      <td>129.0</td>\n",
       "      <td>322.0</td>\n",
       "      <td>126</td>\n",
       "      <td>8.3252</td>\n",
       "      <td>452600</td>\n",
       "      <td>NEAR BAY</td>\n",
       "      <td>male</td>\n",
       "    </tr>\n",
       "    <tr>\n",
       "      <th>1</th>\n",
       "      <td>-122.22</td>\n",
       "      <td>37.86</td>\n",
       "      <td>21.0</td>\n",
       "      <td>7099</td>\n",
       "      <td>1106.0</td>\n",
       "      <td>2401.0</td>\n",
       "      <td>1138</td>\n",
       "      <td>8.3014</td>\n",
       "      <td>358500</td>\n",
       "      <td>NEAR BAY</td>\n",
       "      <td>female</td>\n",
       "    </tr>\n",
       "    <tr>\n",
       "      <th>2</th>\n",
       "      <td>-122.24</td>\n",
       "      <td>37.85</td>\n",
       "      <td>52.0</td>\n",
       "      <td>1467</td>\n",
       "      <td>190.0</td>\n",
       "      <td>496.0</td>\n",
       "      <td>177</td>\n",
       "      <td>7.2574</td>\n",
       "      <td>352100</td>\n",
       "      <td>NEAR BAY</td>\n",
       "      <td>male</td>\n",
       "    </tr>\n",
       "    <tr>\n",
       "      <th>3</th>\n",
       "      <td>-122.25</td>\n",
       "      <td>37.85</td>\n",
       "      <td>52.0</td>\n",
       "      <td>1274</td>\n",
       "      <td>235.0</td>\n",
       "      <td>558.0</td>\n",
       "      <td>219</td>\n",
       "      <td>5.6431</td>\n",
       "      <td>341300</td>\n",
       "      <td>NEAR BAY</td>\n",
       "      <td>female</td>\n",
       "    </tr>\n",
       "    <tr>\n",
       "      <th>4</th>\n",
       "      <td>-122.25</td>\n",
       "      <td>37.85</td>\n",
       "      <td>NaN</td>\n",
       "      <td>1627</td>\n",
       "      <td>280.0</td>\n",
       "      <td>NaN</td>\n",
       "      <td>259</td>\n",
       "      <td>3.8462</td>\n",
       "      <td>342200</td>\n",
       "      <td>NEAR BAY</td>\n",
       "      <td>male</td>\n",
       "    </tr>\n",
       "  </tbody>\n",
       "</table>\n",
       "</div>"
      ],
      "text/plain": [
       "   longitude  latitude  housing_median_age  total_rooms  total_bedrooms  \\\n",
       "0    -122.23     37.88                41.0          880           129.0   \n",
       "1    -122.22     37.86                21.0         7099          1106.0   \n",
       "2    -122.24     37.85                52.0         1467           190.0   \n",
       "3    -122.25     37.85                52.0         1274           235.0   \n",
       "4    -122.25     37.85                 NaN         1627           280.0   \n",
       "\n",
       "   population households  median_income  median_house_value ocean_proximity  \\\n",
       "0       322.0        126         8.3252              452600        NEAR BAY   \n",
       "1      2401.0       1138         8.3014              358500        NEAR BAY   \n",
       "2       496.0        177         7.2574              352100        NEAR BAY   \n",
       "3       558.0        219         5.6431              341300        NEAR BAY   \n",
       "4         NaN        259         3.8462              342200        NEAR BAY   \n",
       "\n",
       "   gender  \n",
       "0    male  \n",
       "1  female  \n",
       "2    male  \n",
       "3  female  \n",
       "4    male  "
      ]
     },
     "execution_count": 7,
     "metadata": {},
     "output_type": "execute_result"
    }
   ],
   "source": [
    "housing.head()"
   ]
  },
  {
   "cell_type": "code",
   "execution_count": 23,
   "id": "4d7cd4fb",
   "metadata": {},
   "outputs": [],
   "source": [
    "housing = housing.dropna()"
   ]
  },
  {
   "cell_type": "code",
   "execution_count": 25,
   "id": "9f6ad2e5",
   "metadata": {},
   "outputs": [
    {
     "name": "stdout",
     "output_type": "stream",
     "text": [
      "<class 'pandas.core.frame.DataFrame'>\n",
      "Index: 10177 entries, 0 to 20639\n",
      "Data columns (total 11 columns):\n",
      " #   Column              Non-Null Count  Dtype  \n",
      "---  ------              --------------  -----  \n",
      " 0   longitude           10177 non-null  float64\n",
      " 1   latitude            10177 non-null  float64\n",
      " 2   housing_median_age  10177 non-null  float64\n",
      " 3   total_rooms         10177 non-null  int64  \n",
      " 4   total_bedrooms      10177 non-null  float64\n",
      " 5   population          10177 non-null  float64\n",
      " 6   households          10177 non-null  object \n",
      " 7   median_income       10177 non-null  float64\n",
      " 8   median_house_value  10177 non-null  int64  \n",
      " 9   ocean_proximity     10177 non-null  object \n",
      " 10  gender              10177 non-null  object \n",
      "dtypes: float64(6), int64(2), object(3)\n",
      "memory usage: 954.1+ KB\n"
     ]
    }
   ],
   "source": [
    "housing.info()"
   ]
  },
  {
   "cell_type": "code",
   "execution_count": 29,
   "id": "6ed56e2e",
   "metadata": {},
   "outputs": [
    {
     "data": {
      "text/plain": [
       "0    34.05\n",
       "Name: latitude, dtype: float64"
      ]
     },
     "execution_count": 29,
     "metadata": {},
     "output_type": "execute_result"
    }
   ],
   "source": [
    "housing['latitude'].mode()"
   ]
  },
  {
   "cell_type": "code",
   "execution_count": 30,
   "id": "f4057f89",
   "metadata": {},
   "outputs": [],
   "source": [
    "import scipy as sp"
   ]
  },
  {
   "cell_type": "code",
   "execution_count": 31,
   "id": "246a1b22",
   "metadata": {},
   "outputs": [
    {
     "data": {
      "text/plain": [
       "ModeResult(mode=34.05, count=128)"
      ]
     },
     "execution_count": 31,
     "metadata": {},
     "output_type": "execute_result"
    }
   ],
   "source": [
    "sp.stats.mode(housing['latitude'])"
   ]
  },
  {
   "cell_type": "code",
   "execution_count": 32,
   "id": "0a606258",
   "metadata": {
    "scrolled": true
   },
   "outputs": [
    {
     "data": {
      "text/plain": [
       "latitude\n",
       "34.05    128\n",
       "37.76    121\n",
       "37.79    114\n",
       "37.80    110\n",
       "34.04    108\n",
       "        ... \n",
       "40.17      1\n",
       "40.26      1\n",
       "39.92      1\n",
       "39.32      1\n",
       "39.27      1\n",
       "Name: count, Length: 759, dtype: int64"
      ]
     },
     "execution_count": 32,
     "metadata": {},
     "output_type": "execute_result"
    }
   ],
   "source": [
    "housing['latitude'].value_counts()"
   ]
  },
  {
   "cell_type": "code",
   "execution_count": 37,
   "id": "52cdf8cd",
   "metadata": {},
   "outputs": [
    {
     "data": {
      "text/plain": [
       "ModeResult(mode=-118.3, count=130)"
      ]
     },
     "execution_count": 37,
     "metadata": {},
     "output_type": "execute_result"
    }
   ],
   "source": [
    "sp.stats.mode(housing['longitude'])"
   ]
  },
  {
   "cell_type": "code",
   "execution_count": 38,
   "id": "0c7569d6",
   "metadata": {},
   "outputs": [
    {
     "data": {
      "text/plain": [
       "ModeResult(mode=52.0, count=827)"
      ]
     },
     "execution_count": 38,
     "metadata": {},
     "output_type": "execute_result"
    }
   ],
   "source": [
    "sp.stats.mode(housing['housing_median_age'])"
   ]
  },
  {
   "cell_type": "code",
   "execution_count": 39,
   "id": "d0e93d1f",
   "metadata": {},
   "outputs": [
    {
     "data": {
      "text/plain": [
       "ModeResult(mode=1438, count=11)"
      ]
     },
     "execution_count": 39,
     "metadata": {},
     "output_type": "execute_result"
    }
   ],
   "source": [
    "sp.stats.mode(housing['total_rooms'])"
   ]
  },
  {
   "cell_type": "code",
   "execution_count": 40,
   "id": "3f7dbceb",
   "metadata": {},
   "outputs": [
    {
     "data": {
      "text/plain": [
       "ModeResult(mode=322.0, count=30)"
      ]
     },
     "execution_count": 40,
     "metadata": {},
     "output_type": "execute_result"
    }
   ],
   "source": [
    "sp.stats.mode(housing['total_bedrooms'])"
   ]
  },
  {
   "cell_type": "code",
   "execution_count": 41,
   "id": "297f71f9",
   "metadata": {},
   "outputs": [
    {
     "data": {
      "text/plain": [
       "ModeResult(mode=761.0, count=16)"
      ]
     },
     "execution_count": 41,
     "metadata": {},
     "output_type": "execute_result"
    }
   ],
   "source": [
    "sp.stats.mode(housing['population'])"
   ]
  },
  {
   "cell_type": "code",
   "execution_count": 43,
   "id": "8ee92389",
   "metadata": {},
   "outputs": [],
   "source": [
    "#sp.stats.mode(housing['households'])   object"
   ]
  },
  {
   "cell_type": "code",
   "execution_count": 44,
   "id": "8f521de6",
   "metadata": {},
   "outputs": [
    {
     "data": {
      "text/plain": [
       "ModeResult(mode=2.875, count=29)"
      ]
     },
     "execution_count": 44,
     "metadata": {},
     "output_type": "execute_result"
    }
   ],
   "source": [
    "sp.stats.mode(housing['median_income'])"
   ]
  },
  {
   "cell_type": "code",
   "execution_count": 45,
   "id": "5f3dcea6",
   "metadata": {},
   "outputs": [
    {
     "data": {
      "text/plain": [
       "ModeResult(mode=500001, count=542)"
      ]
     },
     "execution_count": 45,
     "metadata": {},
     "output_type": "execute_result"
    }
   ],
   "source": [
    "sp.stats.mode(housing['median_house_value'])"
   ]
  },
  {
   "cell_type": "code",
   "execution_count": 47,
   "id": "d68e78e9",
   "metadata": {},
   "outputs": [
    {
     "data": {
      "text/plain": [
       "0    female\n",
       "Name: gender, dtype: object"
      ]
     },
     "execution_count": 47,
     "metadata": {},
     "output_type": "execute_result"
    }
   ],
   "source": [
    "housing['gender'].mode()"
   ]
  },
  {
   "cell_type": "code",
   "execution_count": 48,
   "id": "6488a2e2",
   "metadata": {},
   "outputs": [
    {
     "data": {
      "text/plain": [
       "0    <1H OCEAN\n",
       "Name: ocean_proximity, dtype: object"
      ]
     },
     "execution_count": 48,
     "metadata": {},
     "output_type": "execute_result"
    }
   ],
   "source": [
    "housing['ocean_proximity'].mode()"
   ]
  },
  {
   "cell_type": "code",
   "execution_count": 49,
   "id": "9e227fbb",
   "metadata": {},
   "outputs": [
    {
     "data": {
      "text/plain": [
       "0    297\n",
       "Name: households, dtype: object"
      ]
     },
     "execution_count": 49,
     "metadata": {},
     "output_type": "execute_result"
    }
   ],
   "source": [
    "housing['households'].mode()"
   ]
  },
  {
   "cell_type": "code",
   "execution_count": 2,
   "id": "e9ae8f4a",
   "metadata": {},
   "outputs": [
    {
     "data": {
      "text/html": [
       "<div>\n",
       "<style scoped>\n",
       "    .dataframe tbody tr th:only-of-type {\n",
       "        vertical-align: middle;\n",
       "    }\n",
       "\n",
       "    .dataframe tbody tr th {\n",
       "        vertical-align: top;\n",
       "    }\n",
       "\n",
       "    .dataframe thead th {\n",
       "        text-align: right;\n",
       "    }\n",
       "</style>\n",
       "<table border=\"1\" class=\"dataframe\">\n",
       "  <thead>\n",
       "    <tr style=\"text-align: right;\">\n",
       "      <th></th>\n",
       "      <th>index</th>\n",
       "      <th>id</th>\n",
       "      <th>title</th>\n",
       "      <th>type</th>\n",
       "      <th>description</th>\n",
       "      <th>release_year</th>\n",
       "      <th>age_certification</th>\n",
       "      <th>runtime</th>\n",
       "      <th>imdb_id</th>\n",
       "      <th>imdb_score</th>\n",
       "      <th>imdb_votes</th>\n",
       "    </tr>\n",
       "  </thead>\n",
       "  <tbody>\n",
       "    <tr>\n",
       "      <th>0</th>\n",
       "      <td>0</td>\n",
       "      <td>tm84618</td>\n",
       "      <td>Taxi Driver</td>\n",
       "      <td>MOVIE</td>\n",
       "      <td>A mentally unstable Vietnam War veteran works ...</td>\n",
       "      <td>1976</td>\n",
       "      <td>R</td>\n",
       "      <td>113</td>\n",
       "      <td>tt0075314</td>\n",
       "      <td>8.3</td>\n",
       "      <td>795222.0</td>\n",
       "    </tr>\n",
       "    <tr>\n",
       "      <th>1</th>\n",
       "      <td>1</td>\n",
       "      <td>tm127384</td>\n",
       "      <td>Monty Python and the Holy Grail</td>\n",
       "      <td>MOVIE</td>\n",
       "      <td>King Arthur, accompanied by his squire, recrui...</td>\n",
       "      <td>1975</td>\n",
       "      <td>PG</td>\n",
       "      <td>91</td>\n",
       "      <td>tt0071853</td>\n",
       "      <td>8.2</td>\n",
       "      <td>530877.0</td>\n",
       "    </tr>\n",
       "    <tr>\n",
       "      <th>2</th>\n",
       "      <td>2</td>\n",
       "      <td>tm70993</td>\n",
       "      <td>Life of Brian</td>\n",
       "      <td>MOVIE</td>\n",
       "      <td>Brian Cohen is an average young Jewish man, bu...</td>\n",
       "      <td>1979</td>\n",
       "      <td>R</td>\n",
       "      <td>94</td>\n",
       "      <td>tt0079470</td>\n",
       "      <td>8.0</td>\n",
       "      <td>392419.0</td>\n",
       "    </tr>\n",
       "    <tr>\n",
       "      <th>3</th>\n",
       "      <td>3</td>\n",
       "      <td>tm190788</td>\n",
       "      <td>The Exorcist</td>\n",
       "      <td>MOVIE</td>\n",
       "      <td>12-year-old Regan MacNeil begins to adapt an e...</td>\n",
       "      <td>1973</td>\n",
       "      <td>R</td>\n",
       "      <td>133</td>\n",
       "      <td>tt0070047</td>\n",
       "      <td>8.1</td>\n",
       "      <td>391942.0</td>\n",
       "    </tr>\n",
       "    <tr>\n",
       "      <th>4</th>\n",
       "      <td>4</td>\n",
       "      <td>ts22164</td>\n",
       "      <td>Monty Python's Flying Circus</td>\n",
       "      <td>SHOW</td>\n",
       "      <td>A British sketch comedy series with the shows ...</td>\n",
       "      <td>1969</td>\n",
       "      <td>TV-14</td>\n",
       "      <td>30</td>\n",
       "      <td>tt0063929</td>\n",
       "      <td>8.8</td>\n",
       "      <td>72895.0</td>\n",
       "    </tr>\n",
       "    <tr>\n",
       "      <th>...</th>\n",
       "      <td>...</td>\n",
       "      <td>...</td>\n",
       "      <td>...</td>\n",
       "      <td>...</td>\n",
       "      <td>...</td>\n",
       "      <td>...</td>\n",
       "      <td>...</td>\n",
       "      <td>...</td>\n",
       "      <td>...</td>\n",
       "      <td>...</td>\n",
       "      <td>...</td>\n",
       "    </tr>\n",
       "    <tr>\n",
       "      <th>5278</th>\n",
       "      <td>5278</td>\n",
       "      <td>tm1040816</td>\n",
       "      <td>Momshies! Your Soul is Mine</td>\n",
       "      <td>MOVIE</td>\n",
       "      <td>Three women with totally different lives accid...</td>\n",
       "      <td>2021</td>\n",
       "      <td>NaN</td>\n",
       "      <td>108</td>\n",
       "      <td>tt14412240</td>\n",
       "      <td>5.8</td>\n",
       "      <td>26.0</td>\n",
       "    </tr>\n",
       "    <tr>\n",
       "      <th>5279</th>\n",
       "      <td>5279</td>\n",
       "      <td>tm1014599</td>\n",
       "      <td>Fine Wine</td>\n",
       "      <td>MOVIE</td>\n",
       "      <td>A beautiful love story that can happen between...</td>\n",
       "      <td>2021</td>\n",
       "      <td>NaN</td>\n",
       "      <td>100</td>\n",
       "      <td>tt13857480</td>\n",
       "      <td>6.9</td>\n",
       "      <td>39.0</td>\n",
       "    </tr>\n",
       "    <tr>\n",
       "      <th>5280</th>\n",
       "      <td>5280</td>\n",
       "      <td>tm1045018</td>\n",
       "      <td>Clash</td>\n",
       "      <td>MOVIE</td>\n",
       "      <td>A man from Nigeria returns to his family in Ca...</td>\n",
       "      <td>2021</td>\n",
       "      <td>NaN</td>\n",
       "      <td>88</td>\n",
       "      <td>tt14620732</td>\n",
       "      <td>6.5</td>\n",
       "      <td>32.0</td>\n",
       "    </tr>\n",
       "    <tr>\n",
       "      <th>5281</th>\n",
       "      <td>5281</td>\n",
       "      <td>tm1098060</td>\n",
       "      <td>Shadow Parties</td>\n",
       "      <td>MOVIE</td>\n",
       "      <td>A family faces destruction in a long-running c...</td>\n",
       "      <td>2021</td>\n",
       "      <td>NaN</td>\n",
       "      <td>116</td>\n",
       "      <td>tt10168094</td>\n",
       "      <td>6.2</td>\n",
       "      <td>9.0</td>\n",
       "    </tr>\n",
       "    <tr>\n",
       "      <th>5282</th>\n",
       "      <td>5282</td>\n",
       "      <td>ts271048</td>\n",
       "      <td>Mighty Little Bheem: Kite Festival</td>\n",
       "      <td>SHOW</td>\n",
       "      <td>With winter behind them, Bheem and his townspe...</td>\n",
       "      <td>2021</td>\n",
       "      <td>NaN</td>\n",
       "      <td>0</td>\n",
       "      <td>tt13711094</td>\n",
       "      <td>8.8</td>\n",
       "      <td>16.0</td>\n",
       "    </tr>\n",
       "  </tbody>\n",
       "</table>\n",
       "<p>5283 rows × 11 columns</p>\n",
       "</div>"
      ],
      "text/plain": [
       "      index         id                               title   type  \\\n",
       "0         0    tm84618                         Taxi Driver  MOVIE   \n",
       "1         1   tm127384     Monty Python and the Holy Grail  MOVIE   \n",
       "2         2    tm70993                       Life of Brian  MOVIE   \n",
       "3         3   tm190788                        The Exorcist  MOVIE   \n",
       "4         4    ts22164        Monty Python's Flying Circus   SHOW   \n",
       "...     ...        ...                                 ...    ...   \n",
       "5278   5278  tm1040816         Momshies! Your Soul is Mine  MOVIE   \n",
       "5279   5279  tm1014599                           Fine Wine  MOVIE   \n",
       "5280   5280  tm1045018                               Clash  MOVIE   \n",
       "5281   5281  tm1098060                      Shadow Parties  MOVIE   \n",
       "5282   5282   ts271048  Mighty Little Bheem: Kite Festival   SHOW   \n",
       "\n",
       "                                            description  release_year  \\\n",
       "0     A mentally unstable Vietnam War veteran works ...          1976   \n",
       "1     King Arthur, accompanied by his squire, recrui...          1975   \n",
       "2     Brian Cohen is an average young Jewish man, bu...          1979   \n",
       "3     12-year-old Regan MacNeil begins to adapt an e...          1973   \n",
       "4     A British sketch comedy series with the shows ...          1969   \n",
       "...                                                 ...           ...   \n",
       "5278  Three women with totally different lives accid...          2021   \n",
       "5279  A beautiful love story that can happen between...          2021   \n",
       "5280  A man from Nigeria returns to his family in Ca...          2021   \n",
       "5281  A family faces destruction in a long-running c...          2021   \n",
       "5282  With winter behind them, Bheem and his townspe...          2021   \n",
       "\n",
       "     age_certification  runtime     imdb_id  imdb_score  imdb_votes  \n",
       "0                    R      113   tt0075314         8.3    795222.0  \n",
       "1                   PG       91   tt0071853         8.2    530877.0  \n",
       "2                    R       94   tt0079470         8.0    392419.0  \n",
       "3                    R      133   tt0070047         8.1    391942.0  \n",
       "4                TV-14       30   tt0063929         8.8     72895.0  \n",
       "...                ...      ...         ...         ...         ...  \n",
       "5278               NaN      108  tt14412240         5.8        26.0  \n",
       "5279               NaN      100  tt13857480         6.9        39.0  \n",
       "5280               NaN       88  tt14620732         6.5        32.0  \n",
       "5281               NaN      116  tt10168094         6.2         9.0  \n",
       "5282               NaN        0  tt13711094         8.8        16.0  \n",
       "\n",
       "[5283 rows x 11 columns]"
      ]
     },
     "execution_count": 2,
     "metadata": {},
     "output_type": "execute_result"
    }
   ],
   "source": [
    "netflix = pd.read_csv('C:\\data analytics\\pandas_docs/Netflix TV Shows and Movies.csv')\n",
    "netflix"
   ]
  },
  {
   "cell_type": "code",
   "execution_count": 5,
   "id": "09126741",
   "metadata": {},
   "outputs": [
    {
     "name": "stdout",
     "output_type": "stream",
     "text": [
      "<class 'pandas.core.frame.DataFrame'>\n",
      "RangeIndex: 5283 entries, 0 to 5282\n",
      "Data columns (total 11 columns):\n",
      " #   Column             Non-Null Count  Dtype  \n",
      "---  ------             --------------  -----  \n",
      " 0   index              5283 non-null   int64  \n",
      " 1   id                 5283 non-null   object \n",
      " 2   title              5283 non-null   object \n",
      " 3   type               5283 non-null   object \n",
      " 4   description        5278 non-null   object \n",
      " 5   release_year       5283 non-null   int64  \n",
      " 6   age_certification  2998 non-null   object \n",
      " 7   runtime            5283 non-null   int64  \n",
      " 8   imdb_id            5283 non-null   object \n",
      " 9   imdb_score         5283 non-null   float64\n",
      " 10  imdb_votes         5267 non-null   float64\n",
      "dtypes: float64(2), int64(3), object(6)\n",
      "memory usage: 454.1+ KB\n"
     ]
    }
   ],
   "source": [
    "netflix.info()"
   ]
  },
  {
   "cell_type": "code",
   "execution_count": 7,
   "id": "34c8507f",
   "metadata": {},
   "outputs": [
    {
     "data": {
      "text/html": [
       "<div>\n",
       "<style scoped>\n",
       "    .dataframe tbody tr th:only-of-type {\n",
       "        vertical-align: middle;\n",
       "    }\n",
       "\n",
       "    .dataframe tbody tr th {\n",
       "        vertical-align: top;\n",
       "    }\n",
       "\n",
       "    .dataframe thead th {\n",
       "        text-align: right;\n",
       "    }\n",
       "</style>\n",
       "<table border=\"1\" class=\"dataframe\">\n",
       "  <thead>\n",
       "    <tr style=\"text-align: right;\">\n",
       "      <th></th>\n",
       "      <th>index</th>\n",
       "      <th>release_year</th>\n",
       "      <th>runtime</th>\n",
       "      <th>imdb_score</th>\n",
       "      <th>imdb_votes</th>\n",
       "    </tr>\n",
       "  </thead>\n",
       "  <tbody>\n",
       "    <tr>\n",
       "      <th>0</th>\n",
       "      <td>0</td>\n",
       "      <td>1976</td>\n",
       "      <td>113</td>\n",
       "      <td>8.3</td>\n",
       "      <td>795222.0</td>\n",
       "    </tr>\n",
       "    <tr>\n",
       "      <th>1</th>\n",
       "      <td>1</td>\n",
       "      <td>1975</td>\n",
       "      <td>91</td>\n",
       "      <td>8.2</td>\n",
       "      <td>530877.0</td>\n",
       "    </tr>\n",
       "    <tr>\n",
       "      <th>2</th>\n",
       "      <td>2</td>\n",
       "      <td>1979</td>\n",
       "      <td>94</td>\n",
       "      <td>8.0</td>\n",
       "      <td>392419.0</td>\n",
       "    </tr>\n",
       "    <tr>\n",
       "      <th>3</th>\n",
       "      <td>3</td>\n",
       "      <td>1973</td>\n",
       "      <td>133</td>\n",
       "      <td>8.1</td>\n",
       "      <td>391942.0</td>\n",
       "    </tr>\n",
       "    <tr>\n",
       "      <th>4</th>\n",
       "      <td>4</td>\n",
       "      <td>1969</td>\n",
       "      <td>30</td>\n",
       "      <td>8.8</td>\n",
       "      <td>72895.0</td>\n",
       "    </tr>\n",
       "    <tr>\n",
       "      <th>...</th>\n",
       "      <td>...</td>\n",
       "      <td>...</td>\n",
       "      <td>...</td>\n",
       "      <td>...</td>\n",
       "      <td>...</td>\n",
       "    </tr>\n",
       "    <tr>\n",
       "      <th>5278</th>\n",
       "      <td>5278</td>\n",
       "      <td>2021</td>\n",
       "      <td>108</td>\n",
       "      <td>5.8</td>\n",
       "      <td>26.0</td>\n",
       "    </tr>\n",
       "    <tr>\n",
       "      <th>5279</th>\n",
       "      <td>5279</td>\n",
       "      <td>2021</td>\n",
       "      <td>100</td>\n",
       "      <td>6.9</td>\n",
       "      <td>39.0</td>\n",
       "    </tr>\n",
       "    <tr>\n",
       "      <th>5280</th>\n",
       "      <td>5280</td>\n",
       "      <td>2021</td>\n",
       "      <td>88</td>\n",
       "      <td>6.5</td>\n",
       "      <td>32.0</td>\n",
       "    </tr>\n",
       "    <tr>\n",
       "      <th>5281</th>\n",
       "      <td>5281</td>\n",
       "      <td>2021</td>\n",
       "      <td>116</td>\n",
       "      <td>6.2</td>\n",
       "      <td>9.0</td>\n",
       "    </tr>\n",
       "    <tr>\n",
       "      <th>5282</th>\n",
       "      <td>5282</td>\n",
       "      <td>2021</td>\n",
       "      <td>0</td>\n",
       "      <td>8.8</td>\n",
       "      <td>16.0</td>\n",
       "    </tr>\n",
       "  </tbody>\n",
       "</table>\n",
       "<p>5283 rows × 5 columns</p>\n",
       "</div>"
      ],
      "text/plain": [
       "      index  release_year  runtime  imdb_score  imdb_votes\n",
       "0         0          1976      113         8.3    795222.0\n",
       "1         1          1975       91         8.2    530877.0\n",
       "2         2          1979       94         8.0    392419.0\n",
       "3         3          1973      133         8.1    391942.0\n",
       "4         4          1969       30         8.8     72895.0\n",
       "...     ...           ...      ...         ...         ...\n",
       "5278   5278          2021      108         5.8        26.0\n",
       "5279   5279          2021      100         6.9        39.0\n",
       "5280   5280          2021       88         6.5        32.0\n",
       "5281   5281          2021      116         6.2         9.0\n",
       "5282   5282          2021        0         8.8        16.0\n",
       "\n",
       "[5283 rows x 5 columns]"
      ]
     },
     "execution_count": 7,
     "metadata": {},
     "output_type": "execute_result"
    }
   ],
   "source": [
    "netflix.select_dtypes(['int64','float64'])"
   ]
  },
  {
   "cell_type": "code",
   "execution_count": 20,
   "id": "c48feff5",
   "metadata": {},
   "outputs": [
    {
     "data": {
      "text/plain": [
       "6.5334469051675175"
      ]
     },
     "execution_count": 20,
     "metadata": {},
     "output_type": "execute_result"
    }
   ],
   "source": [
    "netflix['imdb_score'].mean()"
   ]
  },
  {
   "cell_type": "code",
   "execution_count": 21,
   "id": "f848d8b9",
   "metadata": {},
   "outputs": [
    {
     "data": {
      "text/plain": [
       "6.6"
      ]
     },
     "execution_count": 21,
     "metadata": {},
     "output_type": "execute_result"
    }
   ],
   "source": [
    "netflix['imdb_score'].median()"
   ]
  },
  {
   "cell_type": "code",
   "execution_count": 6,
   "id": "076013a5",
   "metadata": {},
   "outputs": [
    {
     "data": {
      "text/plain": [
       "ModeResult(mode=6.6, count=201)"
      ]
     },
     "execution_count": 6,
     "metadata": {},
     "output_type": "execute_result"
    }
   ],
   "source": [
    "sp.stats.mode(netflix['imdb_score'])"
   ]
  },
  {
   "cell_type": "code",
   "execution_count": 11,
   "id": "89e8bd98",
   "metadata": {},
   "outputs": [
    {
     "data": {
      "text/plain": [
       "0    6.6\n",
       "Name: imdb_score, dtype: float64"
      ]
     },
     "execution_count": 11,
     "metadata": {},
     "output_type": "execute_result"
    }
   ],
   "source": [
    "netflix['imdb_score'].mode()"
   ]
  },
  {
   "cell_type": "markdown",
   "id": "515ed5a3",
   "metadata": {},
   "source": [
    "- Average rating of a movie or show is 6.53\n",
    "- Median value is 6.6\n",
    "- Mode value is 6.6\n",
    "- It means the most counteded value in the dataset is 6.6\n",
    "- In this data 6.6 rated movies are more"
   ]
  },
  {
   "cell_type": "code",
   "execution_count": 22,
   "id": "8961003e",
   "metadata": {},
   "outputs": [
    {
     "data": {
      "text/plain": [
       "79.19988642816581"
      ]
     },
     "execution_count": 22,
     "metadata": {},
     "output_type": "execute_result"
    }
   ],
   "source": [
    "netflix['runtime'].mean()"
   ]
  },
  {
   "cell_type": "code",
   "execution_count": 23,
   "id": "c016ed8f",
   "metadata": {},
   "outputs": [
    {
     "data": {
      "text/plain": [
       "87.0"
      ]
     },
     "execution_count": 23,
     "metadata": {},
     "output_type": "execute_result"
    }
   ],
   "source": [
    "netflix['runtime'].median()"
   ]
  },
  {
   "cell_type": "code",
   "execution_count": 18,
   "id": "8dde8a67",
   "metadata": {},
   "outputs": [
    {
     "data": {
      "text/plain": [
       "0    90\n",
       "Name: runtime, dtype: int64"
      ]
     },
     "execution_count": 18,
     "metadata": {},
     "output_type": "execute_result"
    }
   ],
   "source": [
    "netflix['runtime'].mode()"
   ]
  },
  {
   "cell_type": "code",
   "execution_count": 19,
   "id": "db0166ac",
   "metadata": {},
   "outputs": [
    {
     "data": {
      "text/plain": [
       "ModeResult(mode=90, count=119)"
      ]
     },
     "execution_count": 19,
     "metadata": {},
     "output_type": "execute_result"
    }
   ],
   "source": [
    "sp.stats.mode(netflix['runtime'])"
   ]
  },
  {
   "cell_type": "markdown",
   "id": "bfe32ca0",
   "metadata": {},
   "source": [
    "- Average length of a movie is 79.19\n",
    "- Median is 87\n",
    "- Mode value is 90\n",
    "- Most length of a show or movie is 90"
   ]
  },
  {
   "cell_type": "code",
   "execution_count": 28,
   "id": "2df17e74",
   "metadata": {},
   "outputs": [
    {
     "data": {
      "text/plain": [
       "array(['MOVIE', 'SHOW'], dtype=object)"
      ]
     },
     "execution_count": 28,
     "metadata": {},
     "output_type": "execute_result"
    }
   ],
   "source": [
    "netflix['type'].unique()"
   ]
  },
  {
   "cell_type": "code",
   "execution_count": 25,
   "id": "83b876ec",
   "metadata": {},
   "outputs": [
    {
     "data": {
      "text/plain": [
       "0    MOVIE\n",
       "Name: type, dtype: object"
      ]
     },
     "execution_count": 25,
     "metadata": {},
     "output_type": "execute_result"
    }
   ],
   "source": [
    "netflix['type'].mode()"
   ]
  },
  {
   "cell_type": "markdown",
   "id": "8f6994ca",
   "metadata": {},
   "source": [
    "- In this data Movies are more than the shows"
   ]
  },
  {
   "cell_type": "code",
   "execution_count": 29,
   "id": "f2839332",
   "metadata": {},
   "outputs": [
    {
     "data": {
      "text/plain": [
       "2015.8799924285445"
      ]
     },
     "execution_count": 29,
     "metadata": {},
     "output_type": "execute_result"
    }
   ],
   "source": [
    "netflix['release_year'].mean()"
   ]
  },
  {
   "cell_type": "code",
   "execution_count": 30,
   "id": "3c53a074",
   "metadata": {},
   "outputs": [
    {
     "data": {
      "text/plain": [
       "2018.0"
      ]
     },
     "execution_count": 30,
     "metadata": {},
     "output_type": "execute_result"
    }
   ],
   "source": [
    "netflix['release_year'].median()"
   ]
  },
  {
   "cell_type": "code",
   "execution_count": 31,
   "id": "197cec1e",
   "metadata": {},
   "outputs": [
    {
     "data": {
      "text/plain": [
       "0    2019\n",
       "Name: release_year, dtype: int64"
      ]
     },
     "execution_count": 31,
     "metadata": {},
     "output_type": "execute_result"
    }
   ],
   "source": [
    "netflix['release_year'].mode()"
   ]
  },
  {
   "cell_type": "code",
   "execution_count": 32,
   "id": "ea245556",
   "metadata": {},
   "outputs": [
    {
     "data": {
      "text/plain": [
       "ModeResult(mode=2019, count=749)"
      ]
     },
     "execution_count": 32,
     "metadata": {},
     "output_type": "execute_result"
    }
   ],
   "source": [
    "sp.stats.mode(netflix['release_year'])"
   ]
  },
  {
   "cell_type": "markdown",
   "id": "33dc9640",
   "metadata": {},
   "source": [
    "- Average value in the release_year is 2015.88 \n",
    "- Cant mention the year in float value\n",
    "- Median value is 2015\n",
    "- Mode value is 2019\n",
    "- Most show or movie released by the year 2019"
   ]
  },
  {
   "cell_type": "code",
   "execution_count": 11,
   "id": "a515eabc",
   "metadata": {},
   "outputs": [],
   "source": [
    "netflix['imdb_votes'].fillna(netflix['imdb_votes'].mode()[0],inplace=True)"
   ]
  },
  {
   "cell_type": "code",
   "execution_count": 12,
   "id": "edaf6bbe",
   "metadata": {},
   "outputs": [
    {
     "data": {
      "text/plain": [
       "ModeResult(mode=25.0, count=27)"
      ]
     },
     "execution_count": 12,
     "metadata": {},
     "output_type": "execute_result"
    }
   ],
   "source": [
    "sp.stats.mode(netflix['imdb_votes'])"
   ]
  },
  {
   "cell_type": "code",
   "execution_count": 13,
   "id": "f24cd193",
   "metadata": {},
   "outputs": [
    {
     "data": {
      "text/plain": [
       "0    25.0\n",
       "Name: imdb_votes, dtype: float64"
      ]
     },
     "execution_count": 13,
     "metadata": {},
     "output_type": "execute_result"
    }
   ],
   "source": [
    "netflix['imdb_votes'].mode()"
   ]
  },
  {
   "cell_type": "markdown",
   "id": "f3462fa0",
   "metadata": {},
   "source": [
    "------------------"
   ]
  },
  {
   "cell_type": "markdown",
   "id": "8b2be8db",
   "metadata": {},
   "source": [
    "## Market Analysis"
   ]
  },
  {
   "cell_type": "markdown",
   "id": "7189eddb",
   "metadata": {},
   "source": [
    "**Q1- In a retail store, the sales of a product have been recorded over a year. Determine the average monthly sales the month with the highest sales, and the median sales to understand the overall performance.**"
   ]
  },
  {
   "cell_type": "code",
   "execution_count": 13,
   "id": "d3aa0eca",
   "metadata": {},
   "outputs": [],
   "source": [
    "dd  = {'Month':['jan','feb','mar','apr','may','jun','jul','aug','sep','oct','nov','dec'],\n",
    "        'Product':['pro1','pro2','pro3','pro4','pro5','pro6','pro7','pro8','pro9','pro10','pro11','pro12'],\n",
    "        'Sale':[225,646,936,232,674,413,174,536,773,822,443,349]}"
   ]
  },
  {
   "cell_type": "code",
   "execution_count": 14,
   "id": "d4935d48",
   "metadata": {},
   "outputs": [
    {
     "data": {
      "text/plain": [
       "{'Month': ['jan',\n",
       "  'feb',\n",
       "  'mar',\n",
       "  'apr',\n",
       "  'may',\n",
       "  'jun',\n",
       "  'jul',\n",
       "  'aug',\n",
       "  'sep',\n",
       "  'oct',\n",
       "  'nov',\n",
       "  'dec'],\n",
       " 'Product': ['pro1',\n",
       "  'pro2',\n",
       "  'pro3',\n",
       "  'pro4',\n",
       "  'pro5',\n",
       "  'pro6',\n",
       "  'pro7',\n",
       "  'pro8',\n",
       "  'pro9',\n",
       "  'pro10',\n",
       "  'pro11',\n",
       "  'pro12'],\n",
       " 'Sale': [225, 646, 936, 232, 674, 413, 174, 536, 773, 822, 443, 349]}"
      ]
     },
     "execution_count": 14,
     "metadata": {},
     "output_type": "execute_result"
    }
   ],
   "source": [
    "dd"
   ]
  },
  {
   "cell_type": "code",
   "execution_count": 67,
   "id": "50c17958",
   "metadata": {},
   "outputs": [
    {
     "data": {
      "text/html": [
       "<div>\n",
       "<style scoped>\n",
       "    .dataframe tbody tr th:only-of-type {\n",
       "        vertical-align: middle;\n",
       "    }\n",
       "\n",
       "    .dataframe tbody tr th {\n",
       "        vertical-align: top;\n",
       "    }\n",
       "\n",
       "    .dataframe thead th {\n",
       "        text-align: right;\n",
       "    }\n",
       "</style>\n",
       "<table border=\"1\" class=\"dataframe\">\n",
       "  <thead>\n",
       "    <tr style=\"text-align: right;\">\n",
       "      <th></th>\n",
       "      <th>Month</th>\n",
       "      <th>Product</th>\n",
       "      <th>Sale</th>\n",
       "    </tr>\n",
       "  </thead>\n",
       "  <tbody>\n",
       "    <tr>\n",
       "      <th>0</th>\n",
       "      <td>jan</td>\n",
       "      <td>pro1</td>\n",
       "      <td>225</td>\n",
       "    </tr>\n",
       "    <tr>\n",
       "      <th>1</th>\n",
       "      <td>feb</td>\n",
       "      <td>pro2</td>\n",
       "      <td>646</td>\n",
       "    </tr>\n",
       "    <tr>\n",
       "      <th>2</th>\n",
       "      <td>mar</td>\n",
       "      <td>pro3</td>\n",
       "      <td>936</td>\n",
       "    </tr>\n",
       "    <tr>\n",
       "      <th>3</th>\n",
       "      <td>apr</td>\n",
       "      <td>pro4</td>\n",
       "      <td>232</td>\n",
       "    </tr>\n",
       "    <tr>\n",
       "      <th>4</th>\n",
       "      <td>may</td>\n",
       "      <td>pro5</td>\n",
       "      <td>674</td>\n",
       "    </tr>\n",
       "    <tr>\n",
       "      <th>5</th>\n",
       "      <td>jun</td>\n",
       "      <td>pro6</td>\n",
       "      <td>413</td>\n",
       "    </tr>\n",
       "    <tr>\n",
       "      <th>6</th>\n",
       "      <td>jul</td>\n",
       "      <td>pro7</td>\n",
       "      <td>174</td>\n",
       "    </tr>\n",
       "    <tr>\n",
       "      <th>7</th>\n",
       "      <td>aug</td>\n",
       "      <td>pro8</td>\n",
       "      <td>536</td>\n",
       "    </tr>\n",
       "    <tr>\n",
       "      <th>8</th>\n",
       "      <td>sep</td>\n",
       "      <td>pro9</td>\n",
       "      <td>773</td>\n",
       "    </tr>\n",
       "    <tr>\n",
       "      <th>9</th>\n",
       "      <td>oct</td>\n",
       "      <td>pro10</td>\n",
       "      <td>822</td>\n",
       "    </tr>\n",
       "    <tr>\n",
       "      <th>10</th>\n",
       "      <td>nov</td>\n",
       "      <td>pro11</td>\n",
       "      <td>443</td>\n",
       "    </tr>\n",
       "    <tr>\n",
       "      <th>11</th>\n",
       "      <td>dec</td>\n",
       "      <td>pro12</td>\n",
       "      <td>349</td>\n",
       "    </tr>\n",
       "  </tbody>\n",
       "</table>\n",
       "</div>"
      ],
      "text/plain": [
       "   Month Product  Sale\n",
       "0    jan    pro1   225\n",
       "1    feb    pro2   646\n",
       "2    mar    pro3   936\n",
       "3    apr    pro4   232\n",
       "4    may    pro5   674\n",
       "5    jun    pro6   413\n",
       "6    jul    pro7   174\n",
       "7    aug    pro8   536\n",
       "8    sep    pro9   773\n",
       "9    oct   pro10   822\n",
       "10   nov   pro11   443\n",
       "11   dec   pro12   349"
      ]
     },
     "execution_count": 67,
     "metadata": {},
     "output_type": "execute_result"
    }
   ],
   "source": [
    "data  = pd.DataFrame(dd)\n",
    "data"
   ]
  },
  {
   "cell_type": "code",
   "execution_count": 68,
   "id": "d824fc31",
   "metadata": {},
   "outputs": [
    {
     "name": "stdout",
     "output_type": "stream",
     "text": [
      "<class 'pandas.core.frame.DataFrame'>\n",
      "RangeIndex: 12 entries, 0 to 11\n",
      "Data columns (total 3 columns):\n",
      " #   Column   Non-Null Count  Dtype \n",
      "---  ------   --------------  ----- \n",
      " 0   Month    12 non-null     object\n",
      " 1   Product  12 non-null     object\n",
      " 2   Sale     12 non-null     int64 \n",
      "dtypes: int64(1), object(2)\n",
      "memory usage: 420.0+ bytes\n"
     ]
    }
   ],
   "source": [
    "data.info()"
   ]
  },
  {
   "cell_type": "code",
   "execution_count": 69,
   "id": "bcbcc2d4",
   "metadata": {},
   "outputs": [
    {
     "data": {
      "text/plain": [
       "518.5833333333334"
      ]
     },
     "execution_count": 69,
     "metadata": {},
     "output_type": "execute_result"
    }
   ],
   "source": [
    "data['Sale'].mean()"
   ]
  },
  {
   "cell_type": "markdown",
   "id": "92ab189e",
   "metadata": {},
   "source": [
    "- Average monthly sales is 518.58"
   ]
  },
  {
   "cell_type": "code",
   "execution_count": 70,
   "id": "5f2f54e8",
   "metadata": {},
   "outputs": [
    {
     "data": {
      "text/plain": [
       "936"
      ]
     },
     "execution_count": 70,
     "metadata": {},
     "output_type": "execute_result"
    }
   ],
   "source": [
    "data['Sale'].max()"
   ]
  },
  {
   "cell_type": "code",
   "execution_count": 71,
   "id": "9676330b",
   "metadata": {},
   "outputs": [
    {
     "data": {
      "text/html": [
       "<div>\n",
       "<style scoped>\n",
       "    .dataframe tbody tr th:only-of-type {\n",
       "        vertical-align: middle;\n",
       "    }\n",
       "\n",
       "    .dataframe tbody tr th {\n",
       "        vertical-align: top;\n",
       "    }\n",
       "\n",
       "    .dataframe thead th {\n",
       "        text-align: right;\n",
       "    }\n",
       "</style>\n",
       "<table border=\"1\" class=\"dataframe\">\n",
       "  <thead>\n",
       "    <tr style=\"text-align: right;\">\n",
       "      <th></th>\n",
       "      <th>Month</th>\n",
       "      <th>Product</th>\n",
       "      <th>Sale</th>\n",
       "    </tr>\n",
       "  </thead>\n",
       "  <tbody>\n",
       "    <tr>\n",
       "      <th>2</th>\n",
       "      <td>mar</td>\n",
       "      <td>pro3</td>\n",
       "      <td>936</td>\n",
       "    </tr>\n",
       "  </tbody>\n",
       "</table>\n",
       "</div>"
      ],
      "text/plain": [
       "  Month Product  Sale\n",
       "2   mar    pro3   936"
      ]
     },
     "execution_count": 71,
     "metadata": {},
     "output_type": "execute_result"
    }
   ],
   "source": [
    "data[data['Sale'] == 936]"
   ]
  },
  {
   "cell_type": "markdown",
   "id": "280b3874",
   "metadata": {},
   "source": [
    "- Month with highest sale is March"
   ]
  },
  {
   "cell_type": "code",
   "execution_count": 46,
   "id": "21de68fd",
   "metadata": {},
   "outputs": [
    {
     "data": {
      "text/plain": [
       "489.5"
      ]
     },
     "execution_count": 46,
     "metadata": {},
     "output_type": "execute_result"
    }
   ],
   "source": [
    "data['Sale'].median()"
   ]
  },
  {
   "cell_type": "markdown",
   "id": "f8b23df2",
   "metadata": {},
   "source": [
    "## Educational Assessment"
   ]
  },
  {
   "cell_type": "markdown",
   "id": "97a9342b",
   "metadata": {},
   "source": [
    "**Q2 - Analyze the performance of students in a class based on their test scores. Compute the class average score , the most common score, and the median score to understand the overall performance and identify the common weaknesses.**"
   ]
  },
  {
   "cell_type": "code",
   "execution_count": 9,
   "id": "c1234727",
   "metadata": {},
   "outputs": [],
   "source": [
    "stu = {'Name':['a','b','c','d','e','f','g','h','i','j'],\n",
    "       'Class':['IX','IX','IX','IX','IX','IX','IX','IX','IX','IX'],\n",
    "      'Score(200)':[96,124,73,192,124,89,119,48,120,124]}"
   ]
  },
  {
   "cell_type": "code",
   "execution_count": 10,
   "id": "7b53ba85",
   "metadata": {},
   "outputs": [
    {
     "data": {
      "text/html": [
       "<div>\n",
       "<style scoped>\n",
       "    .dataframe tbody tr th:only-of-type {\n",
       "        vertical-align: middle;\n",
       "    }\n",
       "\n",
       "    .dataframe tbody tr th {\n",
       "        vertical-align: top;\n",
       "    }\n",
       "\n",
       "    .dataframe thead th {\n",
       "        text-align: right;\n",
       "    }\n",
       "</style>\n",
       "<table border=\"1\" class=\"dataframe\">\n",
       "  <thead>\n",
       "    <tr style=\"text-align: right;\">\n",
       "      <th></th>\n",
       "      <th>Name</th>\n",
       "      <th>Class</th>\n",
       "      <th>Score(200)</th>\n",
       "    </tr>\n",
       "  </thead>\n",
       "  <tbody>\n",
       "    <tr>\n",
       "      <th>0</th>\n",
       "      <td>a</td>\n",
       "      <td>IX</td>\n",
       "      <td>96</td>\n",
       "    </tr>\n",
       "    <tr>\n",
       "      <th>1</th>\n",
       "      <td>b</td>\n",
       "      <td>IX</td>\n",
       "      <td>124</td>\n",
       "    </tr>\n",
       "    <tr>\n",
       "      <th>2</th>\n",
       "      <td>c</td>\n",
       "      <td>IX</td>\n",
       "      <td>73</td>\n",
       "    </tr>\n",
       "    <tr>\n",
       "      <th>3</th>\n",
       "      <td>d</td>\n",
       "      <td>IX</td>\n",
       "      <td>192</td>\n",
       "    </tr>\n",
       "    <tr>\n",
       "      <th>4</th>\n",
       "      <td>e</td>\n",
       "      <td>IX</td>\n",
       "      <td>124</td>\n",
       "    </tr>\n",
       "    <tr>\n",
       "      <th>5</th>\n",
       "      <td>f</td>\n",
       "      <td>IX</td>\n",
       "      <td>89</td>\n",
       "    </tr>\n",
       "    <tr>\n",
       "      <th>6</th>\n",
       "      <td>g</td>\n",
       "      <td>IX</td>\n",
       "      <td>119</td>\n",
       "    </tr>\n",
       "    <tr>\n",
       "      <th>7</th>\n",
       "      <td>h</td>\n",
       "      <td>IX</td>\n",
       "      <td>48</td>\n",
       "    </tr>\n",
       "    <tr>\n",
       "      <th>8</th>\n",
       "      <td>i</td>\n",
       "      <td>IX</td>\n",
       "      <td>120</td>\n",
       "    </tr>\n",
       "    <tr>\n",
       "      <th>9</th>\n",
       "      <td>j</td>\n",
       "      <td>IX</td>\n",
       "      <td>124</td>\n",
       "    </tr>\n",
       "  </tbody>\n",
       "</table>\n",
       "</div>"
      ],
      "text/plain": [
       "  Name Class  Score(200)\n",
       "0    a    IX          96\n",
       "1    b    IX         124\n",
       "2    c    IX          73\n",
       "3    d    IX         192\n",
       "4    e    IX         124\n",
       "5    f    IX          89\n",
       "6    g    IX         119\n",
       "7    h    IX          48\n",
       "8    i    IX         120\n",
       "9    j    IX         124"
      ]
     },
     "execution_count": 10,
     "metadata": {},
     "output_type": "execute_result"
    }
   ],
   "source": [
    "students = pd.DataFrame(stu)\n",
    "students"
   ]
  },
  {
   "cell_type": "code",
   "execution_count": 8,
   "id": "eda84dd4",
   "metadata": {},
   "outputs": [
    {
     "data": {
      "text/plain": [
       "105.3"
      ]
     },
     "execution_count": 8,
     "metadata": {},
     "output_type": "execute_result"
    }
   ],
   "source": [
    "students['Score(200)'].mean()"
   ]
  },
  {
   "cell_type": "markdown",
   "id": "c6dd2d19",
   "metadata": {},
   "source": [
    "- Average score of the class is 105.3"
   ]
  },
  {
   "cell_type": "code",
   "execution_count": 11,
   "id": "85e5998d",
   "metadata": {},
   "outputs": [
    {
     "data": {
      "text/plain": [
       "0    124\n",
       "Name: Score(200), dtype: int64"
      ]
     },
     "execution_count": 11,
     "metadata": {},
     "output_type": "execute_result"
    }
   ],
   "source": [
    "students['Score(200)'].mode()"
   ]
  },
  {
   "cell_type": "markdown",
   "id": "103be1fe",
   "metadata": {},
   "source": [
    "- 124 is the most common score "
   ]
  },
  {
   "cell_type": "code",
   "execution_count": 51,
   "id": "50de5801",
   "metadata": {},
   "outputs": [
    {
     "data": {
      "text/plain": [
       "107.5"
      ]
     },
     "execution_count": 51,
     "metadata": {},
     "output_type": "execute_result"
    }
   ],
   "source": [
    "students['Score(200)'].median()"
   ]
  },
  {
   "cell_type": "markdown",
   "id": "89029adf",
   "metadata": {},
   "source": [
    "- Median score is 107.5"
   ]
  },
  {
   "cell_type": "markdown",
   "id": "446ffede",
   "metadata": {},
   "source": [
    "## Public Opinion Analysis"
   ]
  },
  {
   "cell_type": "markdown",
   "id": "86e4e72b",
   "metadata": {},
   "source": [
    "**Q3- Analyze the survey results on public satisfaction with public transportation services. Compute the average satisfaction level , the most common concern among the respondents and the median satisfaction level to understand the overall sentiment and identify the key areas for improvement.**"
   ]
  },
  {
   "cell_type": "code",
   "execution_count": 16,
   "id": "b8ec863e",
   "metadata": {},
   "outputs": [],
   "source": [
    "sur = {'Respondent':[1,2,3,4,5,6,7],\n",
    "       'Pub Transport Serv':['ser1','ser2','ser3','ser4','ser5','ser6','ser7'],\n",
    "       'Pub Concern':['Bus tranp','Bus tranp','train tranp','Bus tranp','Bus tranp','train tranp','Bus tranp'],\n",
    "       'Pub Satisf Level(100)':[50,57,70,56,69,76,46]}\n"
   ]
  },
  {
   "cell_type": "code",
   "execution_count": 17,
   "id": "07d6eca7",
   "metadata": {},
   "outputs": [
    {
     "data": {
      "text/html": [
       "<div>\n",
       "<style scoped>\n",
       "    .dataframe tbody tr th:only-of-type {\n",
       "        vertical-align: middle;\n",
       "    }\n",
       "\n",
       "    .dataframe tbody tr th {\n",
       "        vertical-align: top;\n",
       "    }\n",
       "\n",
       "    .dataframe thead th {\n",
       "        text-align: right;\n",
       "    }\n",
       "</style>\n",
       "<table border=\"1\" class=\"dataframe\">\n",
       "  <thead>\n",
       "    <tr style=\"text-align: right;\">\n",
       "      <th></th>\n",
       "      <th>Respondent</th>\n",
       "      <th>Pub Transport Serv</th>\n",
       "      <th>Pub Concern</th>\n",
       "      <th>Pub Satisf Level(100)</th>\n",
       "    </tr>\n",
       "  </thead>\n",
       "  <tbody>\n",
       "    <tr>\n",
       "      <th>0</th>\n",
       "      <td>1</td>\n",
       "      <td>ser1</td>\n",
       "      <td>Bus tranp</td>\n",
       "      <td>50</td>\n",
       "    </tr>\n",
       "    <tr>\n",
       "      <th>1</th>\n",
       "      <td>2</td>\n",
       "      <td>ser2</td>\n",
       "      <td>Bus tranp</td>\n",
       "      <td>57</td>\n",
       "    </tr>\n",
       "    <tr>\n",
       "      <th>2</th>\n",
       "      <td>3</td>\n",
       "      <td>ser3</td>\n",
       "      <td>train tranp</td>\n",
       "      <td>70</td>\n",
       "    </tr>\n",
       "    <tr>\n",
       "      <th>3</th>\n",
       "      <td>4</td>\n",
       "      <td>ser4</td>\n",
       "      <td>Bus tranp</td>\n",
       "      <td>56</td>\n",
       "    </tr>\n",
       "    <tr>\n",
       "      <th>4</th>\n",
       "      <td>5</td>\n",
       "      <td>ser5</td>\n",
       "      <td>Bus tranp</td>\n",
       "      <td>69</td>\n",
       "    </tr>\n",
       "    <tr>\n",
       "      <th>5</th>\n",
       "      <td>6</td>\n",
       "      <td>ser6</td>\n",
       "      <td>train tranp</td>\n",
       "      <td>76</td>\n",
       "    </tr>\n",
       "    <tr>\n",
       "      <th>6</th>\n",
       "      <td>7</td>\n",
       "      <td>ser7</td>\n",
       "      <td>Bus tranp</td>\n",
       "      <td>46</td>\n",
       "    </tr>\n",
       "  </tbody>\n",
       "</table>\n",
       "</div>"
      ],
      "text/plain": [
       "   Respondent Pub Transport Serv  Pub Concern  Pub Satisf Level(100)\n",
       "0           1               ser1    Bus tranp                     50\n",
       "1           2               ser2    Bus tranp                     57\n",
       "2           3               ser3  train tranp                     70\n",
       "3           4               ser4    Bus tranp                     56\n",
       "4           5               ser5    Bus tranp                     69\n",
       "5           6               ser6  train tranp                     76\n",
       "6           7               ser7    Bus tranp                     46"
      ]
     },
     "execution_count": 17,
     "metadata": {},
     "output_type": "execute_result"
    }
   ],
   "source": [
    "survey = pd.DataFrame(sur)\n",
    "survey"
   ]
  },
  {
   "cell_type": "code",
   "execution_count": 18,
   "id": "efea0c24",
   "metadata": {},
   "outputs": [
    {
     "data": {
      "text/plain": [
       "60.57142857142857"
      ]
     },
     "execution_count": 18,
     "metadata": {},
     "output_type": "execute_result"
    }
   ],
   "source": [
    "survey['Pub Satisf Level(100)'].mean()"
   ]
  },
  {
   "cell_type": "markdown",
   "id": "3d72347c",
   "metadata": {},
   "source": [
    "- Average satisfaction of public is 60.57"
   ]
  },
  {
   "cell_type": "code",
   "execution_count": 19,
   "id": "3424c114",
   "metadata": {},
   "outputs": [
    {
     "data": {
      "text/plain": [
       "57.0"
      ]
     },
     "execution_count": 19,
     "metadata": {},
     "output_type": "execute_result"
    }
   ],
   "source": [
    "survey['Pub Satisf Level(100)'].median()"
   ]
  },
  {
   "cell_type": "markdown",
   "id": "5212806e",
   "metadata": {},
   "source": [
    "- Median satisfaction is 57"
   ]
  },
  {
   "cell_type": "code",
   "execution_count": 20,
   "id": "f0ce0f71",
   "metadata": {},
   "outputs": [
    {
     "data": {
      "text/plain": [
       "0    Bus tranp\n",
       "Name: Pub Concern, dtype: object"
      ]
     },
     "execution_count": 20,
     "metadata": {},
     "output_type": "execute_result"
    }
   ],
   "source": [
    "survey['Pub Concern'].mode()"
   ]
  },
  {
   "cell_type": "markdown",
   "id": "bb049b13",
   "metadata": {},
   "source": [
    "- Bus transport is the most common concern of the respondents\n",
    "- Bus tranport areas are the improvement areas"
   ]
  },
  {
   "cell_type": "code",
   "execution_count": null,
   "id": "977f4f98",
   "metadata": {},
   "outputs": [],
   "source": []
  }
 ],
 "metadata": {
  "kernelspec": {
   "display_name": "Python 3 (ipykernel)",
   "language": "python",
   "name": "python3"
  },
  "language_info": {
   "codemirror_mode": {
    "name": "ipython",
    "version": 3
   },
   "file_extension": ".py",
   "mimetype": "text/x-python",
   "name": "python",
   "nbconvert_exporter": "python",
   "pygments_lexer": "ipython3",
   "version": "3.11.5"
  }
 },
 "nbformat": 4,
 "nbformat_minor": 5
}
